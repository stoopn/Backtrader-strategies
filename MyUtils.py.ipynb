{
 "cells": [
  {
   "cell_type": "code",
   "execution_count": 3,
   "metadata": {},
   "outputs": [],
   "source": [
    "from __future__ import (absolute_import, division, print_function,\n",
    "                        unicode_literals)\n",
    "\n",
    "import datetime\n",
    "import numpy as np"
   ]
  },
  {
   "cell_type": "code",
   "execution_count": 4,
   "metadata": {},
   "outputs": [],
   "source": [
    "def ResampleDayToMonth(dates, datas):\n",
    "    prevmonth = -1\n",
    "    mondates = np.array([])\n",
    "    mondatas = np.array([])\n",
    "    startdate = datetime.datetime.fromordinal(int(currdata))\n",
    "    if startdate.day==1:\n",
    "        mondates = np.append(mondates, startdate)\n",
    "        mondatas = np.append(mindatas, datas[0])\n",
    "        prevmonth = startdate.month\n",
    "    \n",
    "    for nowdate, currdata in zip(dates,datas):\n",
    "        currdate = datetime.datetime.fromordinal(int(nowdata))\n",
    "        if currdata.month > prevmonth % 12:\n",
    "            prevmonth=currdata.month\n",
    "            mondates = np.append(mondates, nowdate)\n",
    "            mondatas = np.append(mindatas, currdata)\n",
    "            \n",
    "    return (mondates, mondatas)"
   ]
  },
  {
   "cell_type": "code",
   "execution_count": null,
   "metadata": {},
   "outputs": [],
   "source": []
  }
 ],
 "metadata": {
  "kernelspec": {
   "display_name": "Python 3",
   "language": "python",
   "name": "python3"
  },
  "language_info": {
   "codemirror_mode": {
    "name": "ipython",
    "version": 3
   },
   "file_extension": ".py",
   "mimetype": "text/x-python",
   "name": "python",
   "nbconvert_exporter": "python",
   "pygments_lexer": "ipython3",
   "version": "3.6.5"
  }
 },
 "nbformat": 4,
 "nbformat_minor": 2
}
